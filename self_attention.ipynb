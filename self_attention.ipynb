{
 "cells": [
  {
   "cell_type": "code",
   "execution_count": 17,
   "metadata": {},
   "outputs": [
    {
     "name": "stdout",
     "output_type": "stream",
     "text": [
      "tensor([0.9544, 1.4950, 1.4754, 0.8434, 0.7070, 1.0865])\n",
      "Attention weights: tensor([0.1385, 0.2379, 0.2333, 0.1240, 0.1082, 0.1581])\n",
      "Sum: tensor(1.)\n",
      "tensor([0.4419, 0.6515, 0.5683])\n"
     ]
    }
   ],
   "source": [
    "# 3-dimensional embeddings of the sequence “Your journey starts with one step”\n",
    "\n",
    "import torch\n",
    "inputs = torch.tensor(\n",
    "  [[0.43, 0.15, 0.89], # Your (x^1)\n",
    "   [0.55, 0.87, 0.66], # journey (x^2)\n",
    "   [0.57, 0.85, 0.64], # starts (x^3)\n",
    "   [0.22, 0.58, 0.33], # with (x^4)   \n",
    "   [0.77, 0.25, 0.10], # one (x^5)   \n",
    "   [0.05, 0.80, 0.55]] # step (x^6)   \n",
    ")\n",
    "\n",
    "# attention scores for 2nd input (\"journey\") wrt to all other inputs - using dot products\n",
    "# mutliplies element wise i.e. 1st ele with 1st ele, 2nd with 2nd and so on\n",
    "query = inputs[1]                           \n",
    "attn_scores_2 = torch.empty(inputs.shape[0])\n",
    "for i, x_i in enumerate(inputs):\n",
    "    attn_scores_2[i] = torch.dot(x_i, query)\n",
    "print(attn_scores_2)\n",
    "\n",
    "# normalize the attention scores to convert them to attention weights\n",
    "attn_weights_2 = torch.softmax(attn_scores_2, dim=0)\n",
    "print(\"Attention weights:\", attn_weights_2)\n",
    "print(\"Sum:\", attn_weights_2.sum())\n",
    "\n",
    "# computing z(2) by multiplying the embedded input tokens, x(i), with the corresponding attention weights and then summing the resulting vectors\n",
    "query = inputs[1]        \n",
    "context_vec_2 = torch.zeros(query.shape)\n",
    "for i,x_i in enumerate(inputs):\n",
    "    context_vec_2 += attn_weights_2[i]*x_i\n",
    "print(context_vec_2)\n",
    "\n"
   ]
  },
  {
   "cell_type": "code",
   "execution_count": 18,
   "metadata": {},
   "outputs": [
    {
     "name": "stdout",
     "output_type": "stream",
     "text": [
      "tensor([[0.4421, 0.5931, 0.5790],\n",
      "        [0.4419, 0.6515, 0.5683],\n",
      "        [0.4431, 0.6496, 0.5671],\n",
      "        [0.4304, 0.6298, 0.5510],\n",
      "        [0.4671, 0.5910, 0.5266],\n",
      "        [0.4177, 0.6503, 0.5645]])\n"
     ]
    }
   ],
   "source": [
    "attn_scores = inputs @ inputs.T\n",
    "attn_weights = torch.softmax(attn_scores, dim=-1)\n",
    "\n",
    "all_context_vecs = attn_weights @ inputs\n",
    "print(all_context_vecs)"
   ]
  },
  {
   "cell_type": "code",
   "execution_count": 19,
   "metadata": {},
   "outputs": [
    {
     "name": "stdout",
     "output_type": "stream",
     "text": [
      "3 tensor([0.5500, 0.8700, 0.6600]) torch.Size([3, 2]) Parameter containing:\n",
      "tensor([[0.7662, 0.8018],\n",
      "        [0.6371, 0.3464],\n",
      "        [0.2020, 0.1266]])\n",
      "tensor([1.1090, 0.8259])\n",
      "tensor([[0.8591, 0.4354],\n",
      "        [1.0358, 0.7199],\n",
      "        [1.0238, 0.7259],\n",
      "        [0.5483, 0.3659],\n",
      "        [0.5193, 0.6296],\n",
      "        [0.7036, 0.3352]])\n"
     ]
    }
   ],
   "source": [
    "# now with trainable weights\n",
    "# we compute 3 matrices: query Wq (for current input), key Wk, value Wv\n",
    "# taking 2nd input as query\n",
    "x_2 = inputs[1]    \n",
    "d_in = inputs.shape[1]     \n",
    "d_out = 2\n",
    "# Note that in GPT-like models, the input and output dimensions are usually the same, but to better follow the computation, we’ll use different input (d_in=3) and output (d_out=2) dimensions here.\n",
    "\n",
    "W_query = torch.nn.Parameter(torch.rand(d_in, d_out), requires_grad=False) \n",
    "W_key   = torch.nn.Parameter(torch.rand(d_in, d_out), requires_grad=False) \n",
    "W_value = torch.nn.Parameter(torch.rand(d_in, d_out), requires_grad=False)\n",
    "\n",
    "query_2 = x_2 @ W_query\n",
    "keys = inputs @ W_key \n",
    "values = inputs @ W_value\n",
    "\n",
    "print(d_in, x_2, W_query.shape, W_query)\n",
    "print(query_2)\n",
    "print(keys)\n"
   ]
  },
  {
   "cell_type": "code",
   "execution_count": 20,
   "metadata": {},
   "outputs": [
    {
     "name": "stdout",
     "output_type": "stream",
     "text": [
      "tensor([1.3124, 1.7432, 1.7349, 0.9103, 1.0959, 1.0571])\n",
      "tensor([0.1626, 0.2205, 0.2192, 0.1224, 0.1395, 0.1358])\n",
      "tensor([1.0427, 0.5773])\n"
     ]
    }
   ],
   "source": [
    "attn_scores_2 = query_2 @ keys.T      \n",
    "print(attn_scores_2)\n",
    "\n",
    "d_k = keys.shape[-1] \n",
    "attn_weights_2 = torch.softmax(attn_scores_2 / d_k**0.5, dim=-1) \n",
    "print(attn_weights_2)\n",
    "\n",
    "context_vec_2 = attn_weights_2 @ values \n",
    "print(context_vec_2)"
   ]
  },
  {
   "cell_type": "code",
   "execution_count": 21,
   "metadata": {},
   "outputs": [
    {
     "name": "stdout",
     "output_type": "stream",
     "text": [
      "tensor([[0.2996, 0.8053],\n",
      "        [0.3061, 0.8210],\n",
      "        [0.3058, 0.8203],\n",
      "        [0.2948, 0.7939],\n",
      "        [0.2927, 0.7891],\n",
      "        [0.2990, 0.8040]], grad_fn=<MmBackward0>)\n"
     ]
    }
   ],
   "source": [
    "import torch.nn as nn \n",
    "class SelfAttention_v1(nn.Module):    \n",
    "    def __init__(self, d_in, d_out): \n",
    "        super().__init__() \n",
    "        self.W_query = nn.Parameter(torch.rand(d_in, d_out)) \n",
    "        self.W_key   = nn.Parameter(torch.rand(d_in, d_out)) \n",
    "        self.W_value = nn.Parameter(torch.rand(d_in, d_out))\n",
    "\n",
    "    def forward(self, x): \n",
    "        keys = x @ self.W_key \n",
    "        queries = x @ self.W_query \n",
    "        values = x @ self.W_value \n",
    "        attn_scores = queries @ keys.T # omega \n",
    "        attn_weights = torch.softmax( attn_scores / keys.shape[-1]**0.5, dim=-1 ) \n",
    "        context_vec = attn_weights @ values \n",
    "        return context_vec\n",
    "    \n",
    "torch.manual_seed(123) \n",
    "sa_v1 = SelfAttention_v1(d_in, d_out) \n",
    "print(sa_v1(inputs))"
   ]
  },
  {
   "cell_type": "code",
   "execution_count": 25,
   "metadata": {},
   "outputs": [
    {
     "name": "stdout",
     "output_type": "stream",
     "text": [
      "tensor([[-0.0739,  0.0713],\n",
      "        [-0.0748,  0.0703],\n",
      "        [-0.0749,  0.0702],\n",
      "        [-0.0760,  0.0685],\n",
      "        [-0.0763,  0.0679],\n",
      "        [-0.0754,  0.0693]], grad_fn=<MmBackward0>)\n"
     ]
    }
   ],
   "source": [
    "# using nn.Linear\n",
    "\n",
    "class SelfAttention_v2(nn.Module):    \n",
    "    def __init__(self, d_in, d_out, qkv_bias=False):\n",
    "        super().__init__() \n",
    "        self.W_query = nn.Linear(d_in, d_out, bias=qkv_bias) \n",
    "        self.W_key   = nn.Linear(d_in, d_out, bias=qkv_bias) \n",
    "        self.W_value = nn.Linear(d_in, d_out, bias=qkv_bias)\n",
    "\n",
    "    def forward(self, x): \n",
    "        keys = self.W_key(x) \n",
    "        queries = self.W_query(x)\n",
    "        values = self.W_value(x)\n",
    "        attn_scores = queries @ keys.T # omega \n",
    "        attn_weights = torch.softmax( attn_scores / keys.shape[-1]**0.5, dim=-1 ) \n",
    "        context_vec = attn_weights @ values \n",
    "        return context_vec\n",
    "    \n",
    "torch.manual_seed(789) \n",
    "sa_v2 = SelfAttention_v2(d_in, d_out) \n",
    "print(sa_v2(inputs))"
   ]
  }
 ],
 "metadata": {
  "kernelspec": {
   "display_name": "env_global",
   "language": "python",
   "name": "python3"
  },
  "language_info": {
   "codemirror_mode": {
    "name": "ipython",
    "version": 3
   },
   "file_extension": ".py",
   "mimetype": "text/x-python",
   "name": "python",
   "nbconvert_exporter": "python",
   "pygments_lexer": "ipython3",
   "version": "3.12.7"
  }
 },
 "nbformat": 4,
 "nbformat_minor": 2
}
